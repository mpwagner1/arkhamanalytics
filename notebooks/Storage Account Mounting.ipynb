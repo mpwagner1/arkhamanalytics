{
 "cells": [
  {
   "cell_type": "code",
   "execution_count": 0,
   "metadata": {
    "application/vnd.databricks.v1+cell": {
     "cellMetadata": {
      "byteLimit": 2048000,
      "rowLimit": 10000
     },
     "inputWidgets": {},
     "nuid": "a454d5c0-51ac-487e-a393-6aaede2cb222",
     "showTitle": false,
     "tableResultSettingsMap": {},
     "title": ""
    }
   },
   "outputs": [],
   "source": [
    "# Databricks notebook: mount_and_list_files\n",
    "\n",
    "# -----------------------------------\n",
    "# Imports & Logging Setup\n",
    "# -----------------------------------\n",
    "from pyspark.sql import SparkSession\n",
    "import logging\n",
    "\n",
    "logging.basicConfig(level=logging.INFO)\n",
    "logger = logging.getLogger(__name__)\n",
    "\n",
    "# -----------------------------------\n",
    "# Widgets (User Parameters)\n",
    "# -----------------------------------\n",
    "dbutils.widgets.text(\"storage_account_name\", \"arkahmanalyticsadls\", \"Storage Account\")\n",
    "dbutils.widgets.text(\"container_name\", \"bronze\", \"Container Name\")\n",
    "dbutils.widgets.text(\"secret_scope\", \"azure-secrets\", \"Secret Scope\")\n",
    "\n",
    "# -----------------------------------\n",
    "# Parameter Retrieval\n",
    "# -----------------------------------\n",
    "storage_account_name = dbutils.widgets.get(\"storage_account_name\")\n",
    "container_name = dbutils.widgets.get(\"container_name\")\n",
    "secret_scope = dbutils.widgets.get(\"secret_scope\")\n",
    "\n",
    "mount_point = f\"/mnt/{storage_account_name}/{container_name}\"\n",
    "blob_url = f\"wasbs://{container_name}@{storage_account_name}.blob.core.windows.net\"\n",
    "secret_key = f\"{storage_account_name}-access-key\"\n",
    "\n",
    "# -----------------------------------\n",
    "# Mount Function\n",
    "# -----------------------------------\n",
    "def mount_container(mount_point: str, blob_url: str, storage_account_name: str, storage_account_key: str):\n",
    "    try:\n",
    "        if any(mount.mountPoint == mount_point for mount in dbutils.fs.mounts()):\n",
    "            logger.info(f\"{mount_point} is already mounted.\")\n",
    "        else:\n",
    "            dbutils.fs.mount(\n",
    "                source=blob_url,\n",
    "                mount_point=mount_point,\n",
    "                extra_configs={f\"fs.azure.account.key.{storage_account_name}.blob.core.windows.net\": storage_account_key}\n",
    "            )\n",
    "            logger.info(f\"✅ Mounted {mount_point} successfully.\")\n",
    "    except Exception as e:\n",
    "        logger.error(f\"❌ Failed to mount: {e}\")\n",
    "        raise\n",
    "\n",
    "# -----------------------------------\n",
    "# File Listing Function\n",
    "# -----------------------------------\n",
    "def list_files_in_container(mount_point: str):\n",
    "    try:\n",
    "        files = dbutils.fs.ls(mount_point)\n",
    "        if not files:\n",
    "            logger.info(f\"📂 The directory {mount_point} is empty.\")\n",
    "        else:\n",
    "            logger.info(f\"📁 Files in {mount_point}:\")\n",
    "            for file in files:\n",
    "                logger.info(f\" - {file.name}\")\n",
    "        return files\n",
    "    except Exception as e:\n",
    "        logger.error(f\"❌ Error listing files: {e}\")\n",
    "        return []\n",
    "\n",
    "# -----------------------------------\n",
    "# Main Logic\n",
    "# -----------------------------------\n",
    "try:\n",
    "    storage_account_key = dbutils.secrets.get(scope=secret_scope, key=secret_key)\n",
    "    mount_container(mount_point, blob_url, storage_account_name, storage_account_key)\n",
    "    _ = list_files_in_container(mount_point)\n",
    "except Exception as e:\n",
    "    logger.error(f\"Critical error: {e}\")\n"
   ]
  }
 ],
 "metadata": {
  "application/vnd.databricks.v1+notebook": {
   "computePreferences": null,
   "dashboards": [],
   "environmentMetadata": {
    "base_environment": "",
    "environment_version": "2"
   },
   "inputWidgetPreferences": {
    "autoRunOnWidgetChange": "no-auto-run"
   },
   "language": "python",
   "notebookMetadata": {
    "pythonIndentUnit": 4
   },
   "notebookName": "Storage Account Mounting",
   "widgets": {
    "container_name": {
     "currentValue": "bronze",
     "nuid": "59a1cd23-d5f0-4eb1-869a-21d1d047b292",
     "typedWidgetInfo": {
      "autoCreated": false,
      "defaultValue": "",
      "label": "2. Container Name",
      "name": "container_name",
      "options": {
       "widgetDisplayType": "Text",
       "validationRegex": null
      },
      "parameterDataType": "String"
     },
     "widgetInfo": {
      "widgetType": "text",
      "defaultValue": "",
      "label": "2. Container Name",
      "name": "container_name",
      "options": {
       "widgetType": "text",
       "autoCreated": false,
       "validationRegex": null
      }
     }
    },
    "storage_account_name": {
     "currentValue": "arkahmanalyticsadls",
     "nuid": "16dd2714-5084-4f27-8f8f-c5396c4e6c31",
     "typedWidgetInfo": {
      "autoCreated": false,
      "defaultValue": "",
      "label": "1. Storage Account",
      "name": "storage_account_name",
      "options": {
       "widgetDisplayType": "Text",
       "validationRegex": null
      },
      "parameterDataType": "String"
     },
     "widgetInfo": {
      "widgetType": "text",
      "defaultValue": "",
      "label": "1. Storage Account",
      "name": "storage_account_name",
      "options": {
       "widgetType": "text",
       "autoCreated": false,
       "validationRegex": null
      }
     }
    }
   }
  },
  "language_info": {
   "name": "python"
  }
 },
 "nbformat": 4,
 "nbformat_minor": 0
}
