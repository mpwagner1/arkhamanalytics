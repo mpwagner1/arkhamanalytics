{
 "cells": [
  {
   "cell_type": "markdown",
   "metadata": {
    "application/vnd.databricks.v1+cell": {
     "cellMetadata": {},
     "inputWidgets": {},
     "nuid": "48c01b4b-0b28-46f4-bcfa-87d732a42970",
     "showTitle": false,
     "tableResultSettingsMap": {},
     "title": ""
    }
   },
   "source": [
    "# Ingestion Notebook (Modular + Clean)\n",
    "\n",
    "This notebook demonstrates a clean use of the modular ingestion framework.  \n",
    "All widget setup, configuration parsing, file handling, transformation, validation, and logging have been abstracted into reusable modules.\n",
    "\n",
    "Run this notebook to execute ingestion based on parameters selected through widgets.\n"
   ]
  },
  {
   "cell_type": "code",
   "execution_count": 0,
   "metadata": {
    "application/vnd.databricks.v1+cell": {
     "cellMetadata": {
      "byteLimit": 2048000,
      "rowLimit": 10000
     },
     "inputWidgets": {},
     "nuid": "6125a545-0e03-41db-a3f0-769f6e66bafa",
     "showTitle": false,
     "tableResultSettingsMap": {},
     "title": ""
    }
   },
   "outputs": [],
   "source": [
    "import sys\n",
    "import os\n",
    "\n",
    "# Add the ingestion/ folder to sys.path so Python can find arkhamanalytics/\n",
    "ingestion_path = os.path.abspath(os.path.join(os.getcwd(), \"../\"))\n",
    "if ingestion_path not in sys.path:\n",
    "    sys.path.insert(0, ingestion_path)\n",
    "\n",
    "# Now import from the arkhamanalytics package\n",
    "from arkhamanalytics.file_utils import detect_and_read_file\n",
    "from arkhamanalytics.schema_utils import validate_schema\n",
    "from arkhamanalytics.audit_logger import log_ingestion_audit\n",
    "from arkhamanalytics.transformations import apply_transformations\n",
    "from arkhamanalytics.widget_manager import WidgetManager, get_config_from_widgets\n",
    "from arkhamanalytics.widget_presets import create_base_widgets\n"
   ]
  },
  {
   "cell_type": "code",
   "execution_count": 0,
   "metadata": {
    "application/vnd.databricks.v1+cell": {
     "cellMetadata": {
      "byteLimit": 2048000,
      "rowLimit": 10000
     },
     "inputWidgets": {},
     "nuid": "800cab5f-3cc2-4271-b9e2-01eb1736d2b5",
     "showTitle": false,
     "tableResultSettingsMap": {},
     "title": ""
    }
   },
   "outputs": [],
   "source": [
    "wm = WidgetManager(dbutils)\n",
    "wm.remove_all()\n",
    "create_base_widgets(wm)\n",
    "config = get_config_from_widgets(dbutils)"
   ]
  },
  {
   "cell_type": "code",
   "execution_count": 0,
   "metadata": {
    "application/vnd.databricks.v1+cell": {
     "cellMetadata": {},
     "inputWidgets": {},
     "nuid": "41fbc4e9-1580-4bbe-9f84-69c6f3e51671",
     "showTitle": false,
     "tableResultSettingsMap": {},
     "title": ""
    }
   },
   "outputs": [],
   "source": [
    "df_raw = detect_and_read_file(\n",
    "    spark=spark,\n",
    "    file_path=matched_file_path,\n",
    "    encoding=config.encoding,\n",
    "    sheet_name=config.sheet_name,\n",
    "    start_cell=config.excel_starting_cell\n",
    ")\n",
    "\n",
    "df_raw.display()"
   ]
  },
  {
   "cell_type": "code",
   "execution_count": 0,
   "metadata": {
    "application/vnd.databricks.v1+cell": {
     "cellMetadata": {},
     "inputWidgets": {},
     "nuid": "74d61ad1-1296-4544-864d-7fa47c25a80c",
     "showTitle": false,
     "tableResultSettingsMap": {},
     "title": ""
    }
   },
   "outputs": [],
   "source": [
    "# Apply standard transformations\n",
    "df_transformed = apply_transformations(df_raw)\n",
    "df_transformed.display()\n"
   ]
  },
  {
   "cell_type": "code",
   "execution_count": 0,
   "metadata": {
    "application/vnd.databricks.v1+cell": {
     "cellMetadata": {},
     "inputWidgets": {},
     "nuid": "5261c3ed-672b-413e-b053-8608b666fff7",
     "showTitle": false,
     "tableResultSettingsMap": {},
     "title": ""
    }
   },
   "outputs": [],
   "source": [
    "# Validate schema against expected structure\n",
    "validation_result = validate_schema(df_transformed, config.file_pattern)\n",
    "print(\"Schema valid:\", validation_result[\"valid\"])\n",
    "if not validation_result[\"valid\"]:\n",
    "    print(\"Schema errors:\", validation_result[\"errors\"])\n"
   ]
  },
  {
   "cell_type": "code",
   "execution_count": 0,
   "metadata": {
    "application/vnd.databricks.v1+cell": {
     "cellMetadata": {},
     "inputWidgets": {},
     "nuid": "969a0324-ac85-4d38-8469-a5817a72cf6b",
     "showTitle": false,
     "tableResultSettingsMap": {},
     "title": ""
    }
   },
   "outputs": [],
   "source": [
    "# Log the ingestion result to the audit table\n",
    "log_ingestion(\n",
    "    file_path=config.file_pattern,\n",
    "    success=validation_result[\"valid\"],\n",
    "    errors=validation_result[\"errors\"]\n",
    ")\n"
   ]
  }
 ],
 "metadata": {
  "application/vnd.databricks.v1+notebook": {
   "computePreferences": null,
   "dashboards": [],
   "environmentMetadata": {
    "base_environment": "",
    "environment_version": "2"
   },
   "inputWidgetPreferences": null,
   "language": "python",
   "notebookMetadata": {
    "pythonIndentUnit": 4
   },
   "notebookName": "General Ingestion Notebook - Clean",
   "widgets": {}
  },
  "language_info": {
   "name": "python"
  }
 },
 "nbformat": 4,
 "nbformat_minor": 0
}
